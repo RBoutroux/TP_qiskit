{
 "cells": [
  {
   "cell_type": "code",
   "execution_count": 9,
   "metadata": {},
   "outputs": [
    {
     "name": "stdout",
     "output_type": "stream",
     "text": [
      "     ┌───┐                                    \n",
      "q_0: ┤ X ├──■──────────────■────■─────────────\n",
      "     └───┘  │              │    │             \n",
      "q_1: ───────┼────■─────────■────┼───────■─────\n",
      "            │    │         │    │       │     \n",
      "q_2: ───────┼────┼────■────┼────■───────■─────\n",
      "          ┌─┴─┐┌─┴─┐┌─┴─┐  │    │  ┌─┐  │     \n",
      "q_3: ─────┤ X ├┤ X ├┤ X ├──┼────┼──┤M├──┼─────\n",
      "          └───┘└───┘└───┘┌─┴─┐┌─┴─┐└╥┘┌─┴─┐┌─┐\n",
      "q_4: ────────────────────┤ X ├┤ X ├─╫─┤ X ├┤M├\n",
      "                         └───┘└───┘ ║ └───┘└╥┘\n",
      "c: 2/═══════════════════════════════╩═══════╩═\n",
      "                                    0       1 \n",
      "{'01': 1.0}\n"
     ]
    }
   ],
   "source": [
    "from qiskit import QuantumRegister, ClassicalRegister, QuantumCircuit\n",
    "from numpy import pi\n",
    "import qiskit_aer\n",
    "\n",
    "measures =[]\n",
    "\n",
    "qreg_q = QuantumRegister(5, 'q')\n",
    "creg_c = ClassicalRegister(2, 'c')\n",
    "circuit = QuantumCircuit(qreg_q, creg_c)\n",
    "\n",
    "circuit.x(qreg_q[0])\n",
    "circuit.cx(qreg_q[0], qreg_q[3])\n",
    "circuit.cx(qreg_q[1], qreg_q[3])\n",
    "circuit.cx(qreg_q[2], qreg_q[3])\n",
    "circuit.ccx(qreg_q[0], qreg_q[1], qreg_q[4])\n",
    "circuit.ccx(qreg_q[0], qreg_q[2], qreg_q[4])\n",
    "measures.append(circuit.measure(qreg_q[3], creg_c[0]))\n",
    "# circuit.draw('mpl')\n",
    "# circuit.draw('latex', scale=0.5)\n",
    "circuit.ccx(qreg_q[1], qreg_q[2], qreg_q[4])\n",
    "measures.append(circuit.measure(qreg_q[4], creg_c[1]))\n",
    "print(circuit.draw('text'))\n",
    "backend = qiskit_aer.Aer.get_backend('qasm_simulator')\n",
    "# Aer.get_backend('aer_simulator')\n",
    "\n",
    "shots = 1024\n",
    "counts = backend.run(circuit,shots=shots).result().get_counts()\n",
    "\n",
    "probs = {string:count/shots for string,count in counts.items()}\n",
    "print(probs)\n",
    "# print(measures)\n",
    "# print(circuit)\n",
    "# circuit.draw('latex', scale=0.5)\n",
    "# @columns [0,1,2,3,4,5,6,7,8]\n"
   ]
  },
  {
   "cell_type": "code",
   "execution_count": 10,
   "metadata": {},
   "outputs": [
    {
     "data": {
      "image/png": "[encoded data removed]",
      "text/plain": [
       "<Figure size 872.774x535.111 with 1 Axes>"
      ]
     },
     "execution_count": 10,
     "metadata": {},
     "output_type": "execute_result"
    }
   ],
   "source": [
    "circuit.draw('mpl')"
   ]
  },
  {
   "cell_type": "markdown",
   "metadata": {},
   "source": [
    "# Hadamard Gate"
   ]
  },
  {
   "cell_type": "code",
   "execution_count": 12,
   "metadata": {},
   "outputs": [
    {
     "name": "stdout",
     "output_type": "stream",
     "text": [
      "     ┌───┐┌─┐\n",
      "  q: ┤ H ├┤M├\n",
      "     └───┘└╥┘\n",
      "c: 2/══════╩═\n",
      "           0 \n",
      "{'00': 0.4951171875, '01': 0.5048828125}\n"
     ]
    }
   ],
   "source": [
    "from qiskit import QuantumRegister, ClassicalRegister, QuantumCircuit\n",
    "import qiskit_aer\n",
    "from numpy import pi\n",
    "\n",
    "qreg_q = QuantumRegister(1, 'q')\n",
    "creg_c = ClassicalRegister(2, 'c')\n",
    "circuit = QuantumCircuit(qreg_q, creg_c)\n",
    "\n",
    "circuit.h(qreg_q[0])\n",
    "circuit.measure(qreg_q[0], creg_c[0])\n",
    "print(circuit.draw('text'))\n",
    "# @columns [0,1]\n",
    "\n",
    "\n",
    "backend = qiskit_aer.Aer.get_backend('qasm_simulator')\n",
    "# Aer.get_backend('aer_simulator')\n",
    "\n",
    "shots = 1024\n",
    "counts = backend.run(circuit,shots=shots).result().get_counts()\n",
    "\n",
    "probs = {string:count/shots for string,count in counts.items()}\n",
    "print(probs)\n"
   ]
  },
  {
   "cell_type": "code",
   "execution_count": 15,
   "metadata": {},
   "outputs": [],
   "source": [
    "import qiskit_aer\n",
    "def calculProba(circuit, shots=1024):\n",
    "    backend = qiskit_aer.Aer.get_backend('qasm_simulator')\n",
    "    counts = backend.run(circuit,shots=shots).result().get_counts()\n",
    "    return {string:count/shots for string,count in counts.items()}"
   ]
  },
  {
   "cell_type": "code",
   "execution_count": 16,
   "metadata": {},
   "outputs": [
    {
     "name": "stdout",
     "output_type": "stream",
     "text": [
      "     ┌───┐┌─┐        \n",
      "q_0: ┤ H ├┤M├────────\n",
      "     ├───┤└╥┘┌───┐┌─┐\n",
      "q_1: ┤ X ├─╫─┤ H ├┤M├\n",
      "     └───┘ ║ └───┘└╥┘\n",
      "c: 4/══════╩═══════╩═\n",
      "           0       1 \n",
      "{'0010': 0.2548828125, '0011': 0.2490234375, '0001': 0.2587890625, '0000': 0.2373046875}\n"
     ]
    }
   ],
   "source": [
    "from qiskit import QuantumRegister, ClassicalRegister, QuantumCircuit\n",
    "from numpy import pi\n",
    "\n",
    "qreg_q = QuantumRegister(2, 'q')\n",
    "creg_c = ClassicalRegister(4, 'c')\n",
    "circuit = QuantumCircuit(qreg_q, creg_c)\n",
    "\n",
    "circuit.h(qreg_q[0])\n",
    "circuit.x(qreg_q[1])\n",
    "circuit.measure(qreg_q[0], creg_c[0])\n",
    "circuit.h(qreg_q[1])\n",
    "circuit.measure(qreg_q[1], creg_c[1])\n",
    "# @columns [0,0,1,2,3]\n",
    "print(circuit.draw('text'))\n",
    "\n",
    "\n",
    "print(calculProba(circuit))"
   ]
  },
  {
   "cell_type": "markdown",
   "metadata": {},
   "source": [
    "Ce n'est pas possible de savoir dans quel état était le qubit avant. "
   ]
  },
  {
   "cell_type": "code",
   "execution_count": 19,
   "metadata": {},
   "outputs": [
    {
     "name": "stdout",
     "output_type": "stream",
     "text": [
      "     ┌───┐┌───┐┌─┐\n",
      "  q: ┤ H ├┤ H ├┤M├\n",
      "     └───┘└───┘└╥┘\n",
      "c: 1/═══════════╩═\n",
      "                0 \n",
      "{'0': 1.0}\n"
     ]
    }
   ],
   "source": [
    "from qiskit import QuantumRegister, ClassicalRegister, QuantumCircuit\n",
    "from numpy import pi\n",
    "\n",
    "qreg_q = QuantumRegister(1, 'q')\n",
    "creg_c = ClassicalRegister(1, 'c')\n",
    "circuit = QuantumCircuit(qreg_q, creg_c)\n",
    "\n",
    "circuit.h(qreg_q[0])\n",
    "circuit.h(qreg_q[0])\n",
    "circuit.measure(qreg_q[0], creg_c[0])\n",
    "# @columns [1,2,3]\n",
    "print(circuit.draw('text'))\n",
    "\n",
    "print(calculProba(circuit))"
   ]
  },
  {
   "cell_type": "code",
   "execution_count": 17,
   "metadata": {},
   "outputs": [
    {
     "name": "stdout",
     "output_type": "stream",
     "text": [
      "     ┌───┐┌───┐┌───┐┌─┐\n",
      "  q: ┤ X ├┤ H ├┤ H ├┤M├\n",
      "     └───┘└───┘└───┘└╥┘\n",
      "c: 1/════════════════╩═\n",
      "                     0 \n",
      "{'1': 1.0}\n"
     ]
    }
   ],
   "source": [
    "from qiskit import QuantumRegister, ClassicalRegister, QuantumCircuit\n",
    "from numpy import pi\n",
    "\n",
    "qreg_q = QuantumRegister(1, 'q')\n",
    "creg_c = ClassicalRegister(1, 'c')\n",
    "circuit = QuantumCircuit(qreg_q, creg_c)\n",
    "\n",
    "circuit.x(qreg_q[0])\n",
    "circuit.h(qreg_q[0])\n",
    "circuit.h(qreg_q[0])\n",
    "circuit.measure(qreg_q[0], creg_c[0])\n",
    "# @columns [0,1,2,3]\n",
    "print(circuit.draw('text'))\n",
    "\n",
    "print(calculProba(circuit))"
   ]
  },
  {
   "cell_type": "markdown",
   "metadata": {},
   "source": [
    "H est totalement déterministe quand on l'applique 2 fois. Le qubit revient dans son état intial. "
   ]
  }
 ],
 "metadata": {
  "kernelspec": {
   "display_name": "Python 3",
   "language": "python",
   "name": "python3"
  },
  "language_info": {
   "codemirror_mode": {
    "name": "ipython",
    "version": 3
   },
   "file_extension": ".py",
   "mimetype": "text/x-python",
   "name": "python",
   "nbconvert_exporter": "python",
   "pygments_lexer": "ipython3",
   "version": "3.9.7"
  }
 },
 "nbformat": 4,
 "nbformat_minor": 2
}
